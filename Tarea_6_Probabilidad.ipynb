{
  "nbformat": 4,
  "nbformat_minor": 0,
  "metadata": {
    "colab": {
      "name": "Tarea 6 Probabilidad",
      "provenance": [],
      "authorship_tag": "ABX9TyP/xsuSS8hp9Q7nUE50Z6E1",
      "include_colab_link": true
    },
    "kernelspec": {
      "name": "python3",
      "display_name": "Python 3"
    }
  },
  "cells": [
    {
      "cell_type": "markdown",
      "metadata": {
        "id": "view-in-github",
        "colab_type": "text"
      },
      "source": [
        "<a href=\"https://colab.research.google.com/github/Redzoro1993/Probabilidad/blob/master/Tarea_6_Probabilidad.ipynb\" target=\"_parent\"><img src=\"https://colab.research.google.com/assets/colab-badge.svg\" alt=\"Open In Colab\"/></a>"
      ]
    },
    {
      "cell_type": "markdown",
      "metadata": {
        "id": "M5FUJO0EfU_5",
        "colab_type": "text"
      },
      "source": [
        "#Variables aleatorias continuas\n"
      ]
    },
    {
      "cell_type": "markdown",
      "metadata": {
        "id": "NBbWwWV1gqjz",
        "colab_type": "text"
      },
      "source": [
        "## Punto 1"
      ]
    },
    {
      "cell_type": "markdown",
      "metadata": {
        "id": "Qh_3h8InfqjH",
        "colab_type": "text"
      },
      "source": [
        " Verificar que:\n",
        "$$\n",
        "F_X (t)=\n",
        "\\left\\{\\begin{array}{ll}\n",
        "0, & \\mbox{si $t<-1$},\n",
        " \\\\[0.1cm]\n",
        "{t+1\\over 2}, & \\mbox{si $-1\\leq\n",
        "t\\leq 1$},\n",
        " \\\\[0.1cm]\n",
        "1, & \\mbox{si $t> 1$},\n",
        "\\end{array}\\right.\n",
        "$$\n"
      ]
    },
    {
      "cell_type": "markdown",
      "metadata": {
        "id": "ve7dNq14hJKT",
        "colab_type": "text"
      },
      "source": [
        "### Solución 1"
      ]
    },
    {
      "cell_type": "markdown",
      "metadata": {
        "id": "vzCV9PINCs1u",
        "colab_type": "text"
      },
      "source": [
        "### A"
      ]
    },
    {
      "cell_type": "markdown",
      "metadata": {
        "id": "JqV_3Feo9vsz",
        "colab_type": "text"
      },
      "source": [
        "**Gráfica $F_X (t)$**\n",
        "\n",
        "![texto alternativo](https://drive.google.com/uc?id=1OYJR-qKInQ290DDPiGmQvWWLMTJokgsU)\n",
        "\n"
      ]
    },
    {
      "cell_type": "markdown",
      "metadata": {
        "id": "ZXUwSGkGCzBY",
        "colab_type": "text"
      },
      "source": [
        "A.1 *¿$F_x$ es creciente?*\n",
        "\n",
        "$t < -1  = F '_X(t) = 0$\n",
        "\n",
        "$ -1 \\leq t \\leq -1  = F '_X(t) = \\frac12$\n",
        "\n",
        "$t > 1  = F '_X(t) = 0$\n",
        "\n",
        "La función es creciente en los 3 rangos por lo que cumple una de las propiedades de se una función de distribución\n",
        "\n",
        "A.2 *Evuluando los limites por la derecha*\n",
        "\n",
        "$ \\lim_{t\\to \\ {-1}^{+}} = \\lim_{t\\to \\ {-1}^{+}} 0 = 0 =F_X(-1)$\n",
        "\n",
        "$ \\lim_{t\\to \\ {1}^{+}} = \\lim_{t\\to \\ {-1}^{+}} \\frac{t+1}{2} = 1 =F_X(1)$\n",
        "\n",
        "$ \\lim_{t\\to \\ {1}^{+}} = \\lim_{t\\to \\ {-1}^{+}} 1 = 1 =F_X(1)$\n",
        "\n",
        "Como se observa al evaluar los rangos de la función de disitribución por sus límites por la derecha observamos que es continua. \n"
      ]
    }
  ]
}